{
 "cells": [
  {
   "cell_type": "code",
   "execution_count": 1,
   "metadata": {},
   "outputs": [
    {
     "name": "stdout",
     "output_type": "stream",
     "text": [
      "{y: a0 + a1*cos(w*x) + a2*cos(2*w*x) + a3*cos(3*w*x) + a4*cos(4*w*x) + a5*cos(5*w*x) + b1*sin(w*x) + b2*sin(2*w*x) + b3*sin(3*w*x) + b4*sin(4*w*x) + b5*sin(5*w*x)}\n",
      "\n",
      "Parameter Value        Standard Deviation\n",
      "a0        1.500000e+00 1.756454e-02\n",
      "a1        -2.038476e-01 5.955582e-02\n",
      "a2        6.621599e-03 2.569458e-02\n",
      "a3        -1.645810e-01 3.393417e-02\n",
      "a4        1.985534e-02 2.376292e-02\n",
      "a5        -1.041895e-01 2.478717e-02\n",
      "b1        -5.976704e-01 2.995609e-02\n",
      "b2        8.577875e-03 2.394988e-02\n",
      "b3        -1.089381e-01 5.380526e-02\n",
      "b4        5.197131e-03 2.643407e-02\n",
      "b5        7.587028e-03 5.264868e-02\n",
      "w         1.790745e+00 5.712675e-02\n",
      "Status message         Desired error not necessarily achieved due to precision loss.\n",
      "Number of iterations   153\n",
      "Objective              <symfit.core.objectives.LeastSquares object at 0x7fb8ee641e50>\n",
      "Minimizer              <symfit.core.minimizers.BFGS object at 0x7fb8ee644d00>\n",
      "\n",
      "Goodness of fit qualifiers:\n",
      "chi_squared            0.46915856474828604\n",
      "objective_value        0.23457928237414302\n",
      "r_squared              0.9624673148201371\n"
     ]
    },
    {
     "data": {
      "image/png": "[encoded data removed]",
      "text/plain": [
       "<Figure size 432x288 with 1 Axes>"
      ]
     },
     "metadata": {
      "needs_background": "light"
     },
     "output_type": "display_data"
    }
   ],
   "source": [
    "from symfit import parameters, variables, sin, cos, Fit\n",
    "import numpy as np\n",
    "import matplotlib.pyplot as plt\n",
    "from matplotlib.backends.backend_pdf import PdfPages\n",
    "\n",
    "def fourier_series(x, f, n=0):\n",
    "    \"\"\"\n",
    "    Returns a symbolic fourier series of order `n`.\n",
    "\n",
    "    :param n: Order of the fourier series.\n",
    "    :param x: Independent variable\n",
    "    :param f: Frequency of the fourier series\n",
    "    \"\"\"\n",
    "    # Make the parameter objects for all the terms\n",
    "    a0, *cos_a = parameters(','.join(['a{}'.format(i) for i in range(0, n + 1)]))\n",
    "    sin_b = parameters(','.join(['b{}'.format(i) for i in range(1, n + 1)]))\n",
    "    # Construct the series\n",
    "    series = a0 + sum(ai * cos(i * f * x) + bi * sin(i * f * x)\n",
    "                     for i, (ai, bi) in enumerate(zip(cos_a, sin_b), start=1))\n",
    "    return series\n",
    "\n",
    "x, y = variables('x, y')\n",
    "w, = parameters('w')\n",
    "model_dict = {y: fourier_series(x, f=w, n=5)} \n",
    "print(model_dict) \n",
    "\n",
    "# Make step function data\n",
    "\n",
    "number = np.pi/2\n",
    "\n",
    "xdata = np.linspace(0, np.pi)\n",
    "ydata = np.zeros_like(xdata)\n",
    "ydata[xdata < number] = 1\n",
    "ydata[xdata > number] = 2\n",
    "# Define a Fit object for this model and data\n",
    "fit = Fit(model_dict, x=xdata, y=ydata) \n",
    "fit_result = fit.execute() \n",
    "print(fit_result)\n",
    "#print(fita_result)\n",
    "\n",
    "# Plot the result\n",
    "plt.plot(xdata, ydata)\n",
    "plt.plot(xdata, fit.model(x=xdata, **fit_result.params).y, 'b') \n",
    "plt.xlabel('x')\n",
    "plt.ylabel('y')\n",
    "plt.show() \n",
    "#https://symfit.readthedocs.io/en/stable/examples/ex_fourier_series.html\n"
   ]
  },
  {
   "cell_type": "code",
   "execution_count": 2,
   "metadata": {},
   "outputs": [
    {
     "name": "stdout",
     "output_type": "stream",
     "text": [
      "{y: a0 + a1*cos(w*x) + a10*cos(10*w*x) + a2*cos(2*w*x) + a3*cos(3*w*x) + a4*cos(4*w*x) + a5*cos(5*w*x) + a6*cos(6*w*x) + a7*cos(7*w*x) + a8*cos(8*w*x) + a9*cos(9*w*x) + b1*sin(w*x) + b10*sin(10*w*x) + b2*sin(2*w*x) + b3*sin(3*w*x) + b4*sin(4*w*x) + b5*sin(5*w*x) + b6*sin(6*w*x) + b7*sin(7*w*x) + b8*sin(8*w*x) + b9*sin(9*w*x)}\n",
      "\n",
      "Parameter Value        Standard Deviation\n",
      "a0        1.500000e+00 1.961596e-02\n",
      "a1        -1.826108e-01 7.839687e-02\n",
      "a10       6.093629e-03 3.746217e-02\n",
      "a2        4.310973e-03 3.062360e-02\n",
      "a3        -1.552369e-01 4.669117e-02\n",
      "a4        1.382797e-02 2.439680e-02\n",
      "a5        -1.102634e-01 1.942066e-02\n",
      "a6        2.074776e-02 2.186786e-02\n",
      "a7        -6.208030e-02 4.449417e-02\n",
      "a8        1.843537e-02 2.345849e-02\n",
      "a9        -2.273630e-02 5.495812e-02\n",
      "b1        -6.061281e-01 3.135257e-02\n",
      "b10       -2.785924e-02 2.715173e-02\n",
      "b2        6.505171e-03 2.435285e-02\n",
      "b3        -1.288865e-01 6.666789e-02\n",
      "b4        5.851171e-03 3.059726e-02\n",
      "b5        -1.191803e-02 7.318111e-02\n",
      "b6        -3.881800e-03 3.351540e-02\n",
      "b7        3.212913e-02 5.166030e-02\n",
      "b8        -1.788362e-02 3.534259e-02\n",
      "b9        4.084210e-02 2.380606e-02\n",
      "w         1.813709e+00 7.520570e-02\n",
      "Status message         Desired error not necessarily achieved due to precision loss.\n",
      "Number of iterations   558\n",
      "Objective              <symfit.core.objectives.LeastSquares object at 0x7fb8edd15a00>\n",
      "Minimizer              <symfit.core.minimizers.BFGS object at 0x7fb8edd15f10>\n",
      "\n",
      "Goodness of fit qualifiers:\n",
      "chi_squared            0.23307597214432216\n",
      "objective_value        0.11653798607216108\n",
      "r_squared              0.9813539222284542\n"
     ]
    },
    {
     "data": {
      "image/png": "[encoded data removed]",
      "text/plain": [
       "<Figure size 432x288 with 1 Axes>"
      ]
     },
     "metadata": {
      "needs_background": "light"
     },
     "output_type": "display_data"
    }
   ],
   "source": [
    "x, y = variables('x, y')\n",
    "w, = parameters('w')\n",
    "model_dict = {y: fourier_series(x, f=w, n=10)} \n",
    "print(model_dict) \n",
    "\n",
    "# Make step function data\n",
    "\n",
    "number = np.pi/2\n",
    "\n",
    "xdata = np.linspace(0, np.pi)\n",
    "ydata = np.zeros_like(xdata)\n",
    "ydata[xdata < number] = 1\n",
    "ydata[xdata > number] = 2\n",
    "# Define a Fit object for this model and data\n",
    "fit = Fit(model_dict, x=xdata, y=ydata) \n",
    "fit_result = fit.execute() \n",
    "print(fit_result)\n",
    "#print(fita_result)\n",
    "\n",
    "# Plot the result\n",
    "plt.plot(xdata, ydata)\n",
    "plt.plot(xdata, fit.model(x=xdata, **fit_result.params).y, 'b') \n",
    "plt.xlabel('x')\n",
    "plt.ylabel('y')\n",
    "plt.show() \n",
    "#https://symfit.readthedocs.io/en/stable/examples/ex_fourier_series.html\n"
   ]
  },
  {
   "cell_type": "code",
   "execution_count": 3,
   "metadata": {},
   "outputs": [
    {
     "name": "stdout",
     "output_type": "stream",
     "text": [
      "{y: a0 + a1*cos(w*x) + a10*cos(10*w*x) + a11*cos(11*w*x) + a12*cos(12*w*x) + a13*cos(13*w*x) + a14*cos(14*w*x) + a15*cos(15*w*x) + a16*cos(16*w*x) + a17*cos(17*w*x) + a18*cos(18*w*x) + a19*cos(19*w*x) + a2*cos(2*w*x) + a20*cos(20*w*x) + a3*cos(3*w*x) + a4*cos(4*w*x) + a5*cos(5*w*x) + a6*cos(6*w*x) + a7*cos(7*w*x) + a8*cos(8*w*x) + a9*cos(9*w*x) + b1*sin(w*x) + b10*sin(10*w*x) + b11*sin(11*w*x) + b12*sin(12*w*x) + b13*sin(13*w*x) + b14*sin(14*w*x) + b15*sin(15*w*x) + b16*sin(16*w*x) + b17*sin(17*w*x) + b18*sin(18*w*x) + b19*sin(19*w*x) + b2*sin(2*w*x) + b20*sin(20*w*x) + b3*sin(3*w*x) + b4*sin(4*w*x) + b5*sin(5*w*x) + b6*sin(6*w*x) + b7*sin(7*w*x) + b8*sin(8*w*x) + b9*sin(9*w*x)}\n",
      "\n",
      "Parameter Value        Standard Deviation\n",
      "a0        1.500000e+00 1.356241e-02\n",
      "a1        -9.374311e-02 5.379571e-02\n",
      "a10       8.740384e-03 1.853262e-02\n",
      "a11       -5.274688e-02 1.994662e-02\n",
      "a12       1.028499e-02 1.793934e-02\n",
      "a13       -4.052003e-02 2.963579e-02\n",
      "a14       1.071734e-02 1.752773e-02\n",
      "a15       -2.867830e-02 3.816530e-02\n",
      "a16       9.726638e-03 1.914544e-02\n",
      "a17       -1.784448e-02 4.314955e-02\n",
      "a18       7.176286e-03 2.415470e-02\n",
      "a19       -8.470380e-03 4.419067e-02\n",
      "a2        5.148512e-04 2.128310e-02\n",
      "a20       3.137086e-03 3.125057e-02\n",
      "a3        -9.047361e-02 4.832885e-02\n",
      "a4        1.968482e-03 2.030388e-02\n",
      "a5        -8.418474e-02 3.838228e-02\n",
      "a6        4.100411e-03 1.937275e-02\n",
      "a7        -7.535048e-02 2.618940e-02\n",
      "a8        6.515967e-03 1.886649e-02\n",
      "a9        -6.461923e-02 1.705637e-02\n",
      "b1        -6.291877e-01 1.838650e-02\n",
      "b10       8.043575e-04 2.185189e-02\n",
      "b11       2.963980e-03 4.966012e-02\n",
      "b12       -2.128124e-03 2.355741e-02\n",
      "b13       1.488006e-02 4.299903e-02\n",
      "b14       -5.852707e-03 2.550471e-02\n",
      "b15       2.169947e-02 3.345431e-02\n",
      "b16       -9.928083e-03 2.655836e-02\n",
      "b17       2.461627e-02 2.350578e-02\n",
      "b18       -1.380647e-02 2.541118e-02\n",
      "b19       2.461347e-02 1.722148e-02\n",
      "b2        1.689443e-03 1.688528e-02\n",
      "b20       -1.689990e-02 2.155829e-02\n",
      "b3        -1.903432e-01 2.950808e-02\n",
      "b4        2.929763e-03 1.825786e-02\n",
      "b5        -9.228780e-02 4.101693e-02\n",
      "b6        3.338830e-03 1.961127e-02\n",
      "b7        -4.470533e-02 4.893510e-02\n",
      "b8        2.659965e-03 2.068295e-02\n",
      "b9        -1.579094e-02 5.188201e-02\n",
      "w         1.905842e+00 4.999501e-02\n",
      "Status message         Desired error not necessarily achieved due to precision loss.\n",
      "Number of iterations   588\n",
      "Objective              <symfit.core.objectives.LeastSquares object at 0x7fb8edd0c9d0>\n",
      "Minimizer              <symfit.core.minimizers.BFGS object at 0x7fb8edd0c8b0>\n",
      "\n",
      "Goodness of fit qualifiers:\n",
      "chi_squared            0.05446886004683215\n",
      "objective_value        0.027234430023416075\n",
      "r_squared              0.9956424911962535\n"
     ]
    },
    {
     "data": {
      "image/png": "[encoded data removed]",
      "text/plain": [
       "<Figure size 432x288 with 1 Axes>"
      ]
     },
     "metadata": {
      "needs_background": "light"
     },
     "output_type": "display_data"
    }
   ],
   "source": [
    "x, y = variables('x, y')\n",
    "w, = parameters('w')\n",
    "model_dict = {y: fourier_series(x, f=w, n=20)} \n",
    "print(model_dict) \n",
    "\n",
    "# Make step function data\n",
    "\n",
    "number = np.pi/2\n",
    "\n",
    "xdata = np.linspace(0, np.pi)\n",
    "ydata = np.zeros_like(xdata)\n",
    "ydata[xdata < number] = 1\n",
    "ydata[xdata > number] = 2\n",
    "# Define a Fit object for this model and data\n",
    "fit = Fit(model_dict, x=xdata, y=ydata) \n",
    "fit_result = fit.execute() \n",
    "print(fit_result)\n",
    "#print(fita_result)\n",
    "\n",
    "# Plot the result\n",
    "plt.plot(xdata, ydata)\n",
    "plt.plot(xdata, fit.model(x=xdata, **fit_result.params).y, 'b') \n",
    "plt.xlabel('x')\n",
    "plt.ylabel('y')\n",
    "plt.show() \n",
    "#https://symfit.readthedocs.io/en/stable/examples/ex_fourier_series.html\n"
   ]
  }
 ],
 "metadata": {
  "kernelspec": {
   "display_name": "Python 3",
   "language": "python",
   "name": "python3"
  },
  "language_info": {
   "codemirror_mode": {
    "name": "ipython",
    "version": 3
   },
   "file_extension": ".py",
   "mimetype": "text/x-python",
   "name": "python",
   "nbconvert_exporter": "python",
   "pygments_lexer": "ipython3",
   "version": "3.8.3"
  }
 },
 "nbformat": 4,
 "nbformat_minor": 4
}
